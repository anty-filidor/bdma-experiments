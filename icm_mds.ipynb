{
 "cells": [
  {
   "cell_type": "code",
   "execution_count": 18,
   "metadata": {},
   "outputs": [
    {
     "name": "stdout",
     "output_type": "stream",
     "text": [
      "The autoreload extension is already loaded. To reload it, use:\n",
      "  %reload_ext autoreload\n"
     ]
    }
   ],
   "source": [
    "import json\n",
    "\n",
    "import matplotlib.pyplot as plt\n",
    "import network_diffusion as nd\n",
    "import networkx as nx\n",
    "import numpy as np\n",
    "import pandas as pd\n",
    "\n",
    "from tqdm import tqdm\n",
    "from utils import functions, networks\n",
    "\n",
    "%load_ext autoreload\n",
    "%autoreload 2\n",
    "\n",
    "functions.set_seed(42)\n",
    "out_dir = \"icm_mds\""
   ]
  },
  {
   "cell_type": "markdown",
   "metadata": {},
   "source": [
    "## ICM on Multilayer Network"
   ]
  },
  {
   "cell_type": "code",
   "execution_count": 2,
   "metadata": {},
   "outputs": [],
   "source": [
    "aucs = networks.get_aucs_network()\n",
    "lazega = networks.get_lazega_network()"
   ]
  },
  {
   "cell_type": "code",
   "execution_count": 3,
   "metadata": {},
   "outputs": [
    {
     "name": "stdout",
     "output_type": "stream",
     "text": [
      "============================================\n",
      "network parameters\n",
      "--------------------------------------------\n",
      "general parameters:\n",
      "\tnumber of layers: 5\n",
      "\tnumber of actors: 61\n",
      "\n",
      "layer 'facebook' parameters:\n",
      "\tgraph type - <class 'networkx.classes.graph.Graph'>\n",
      "\tnumber of nodes - 32\n",
      "\tnumber of edges - 124\n",
      "\taverage degree - 7.75\n",
      "\tclustering coefficient - 0.5404\n",
      "\n",
      "layer 'lunch' parameters:\n",
      "\tgraph type - <class 'networkx.classes.graph.Graph'>\n",
      "\tnumber of nodes - 60\n",
      "\tnumber of edges - 193\n",
      "\taverage degree - 6.4333\n",
      "\tclustering coefficient - 0.6733\n",
      "\n",
      "layer 'coauthor' parameters:\n",
      "\tgraph type - <class 'networkx.classes.graph.Graph'>\n",
      "\tnumber of nodes - 25\n",
      "\tnumber of edges - 21\n",
      "\taverage degree - 1.68\n",
      "\tclustering coefficient - 0.268\n",
      "\n",
      "layer 'leisure' parameters:\n",
      "\tgraph type - <class 'networkx.classes.graph.Graph'>\n",
      "\tnumber of nodes - 47\n",
      "\tnumber of edges - 88\n",
      "\taverage degree - 3.7447\n",
      "\tclustering coefficient - 0.3925\n",
      "\n",
      "layer 'work' parameters:\n",
      "\tgraph type - <class 'networkx.classes.graph.Graph'>\n",
      "\tnumber of nodes - 60\n",
      "\tnumber of edges - 194\n",
      "\taverage degree - 6.4667\n",
      "\tclustering coefficient - 0.6396\n",
      "============================================\n"
     ]
    }
   ],
   "source": [
    "print(aucs)"
   ]
  },
  {
   "cell_type": "code",
   "execution_count": 4,
   "metadata": {},
   "outputs": [
    {
     "name": "stdout",
     "output_type": "stream",
     "text": [
      "============================================\n",
      "network parameters\n",
      "--------------------------------------------\n",
      "general parameters:\n",
      "\tnumber of layers: 3\n",
      "\tnumber of actors: 71\n",
      "\n",
      "layer 'advice' parameters:\n",
      "\tgraph type - <class 'networkx.classes.graph.Graph'>\n",
      "\tnumber of nodes - 71\n",
      "\tnumber of edges - 556\n",
      "\taverage degree - 15.662\n",
      "\tclustering coefficient - 0.376\n",
      "\n",
      "layer 'friendship' parameters:\n",
      "\tgraph type - <class 'networkx.classes.graph.Graph'>\n",
      "\tnumber of nodes - 71\n",
      "\tnumber of edges - 725\n",
      "\taverage degree - 20.4225\n",
      "\tclustering coefficient - 0.4493\n",
      "\n",
      "layer 'co-work' parameters:\n",
      "\tgraph type - <class 'networkx.classes.graph.Graph'>\n",
      "\tnumber of nodes - 70\n",
      "\tnumber of edges - 378\n",
      "\taverage degree - 10.8\n",
      "\tclustering coefficient - 0.3908\n",
      "============================================\n"
     ]
    }
   ],
   "source": [
    "print(lazega)"
   ]
  },
  {
   "cell_type": "code",
   "execution_count": 5,
   "metadata": {},
   "outputs": [],
   "source": [
    "# propagation prob: 0.1, buget 2% active\n",
    "def create_mic_model(seeding_budget, seed_selector, protocol=\"OR\", probability=0.9):\n",
    "    return nd.models.MICModel(\n",
    "        seeding_budget=seeding_budget,\n",
    "        seed_selector=seed_selector,\n",
    "        protocol=protocol,\n",
    "        probability=probability,\n",
    "    )"
   ]
  },
  {
   "cell_type": "code",
   "execution_count": 6,
   "metadata": {},
   "outputs": [],
   "source": [
    "model_degree_01 = create_mic_model([98, 2, 0], nd.seeding.DegreeCentralitySelector())\n",
    "model_degree_02 = create_mic_model([90, 10, 0], nd.seeding.DegreeCentralitySelector())\n",
    "\n",
    "model_btw_01 = create_mic_model([98, 2, 0], nd.seeding.BetweennessSelector())\n",
    "model_btw_02 = create_mic_model([90, 10, 0], nd.seeding.BetweennessSelector())\n",
    "\n",
    "model_close_01 = create_mic_model([98, 2, 0], nd.seeding.ClosenessSelector())\n",
    "model_close_02 = create_mic_model([90, 10, 0], nd.seeding.ClosenessSelector())\n",
    "\n",
    "model_VR_01 = create_mic_model([98, 2, 0], nd.seeding.VoteRankMLNSeedSelector())\n",
    "model_VR_02 = create_mic_model([90, 10, 0], nd.seeding.VoteRankMLNSeedSelector())\n",
    "\n",
    "model_driver_01 = create_mic_model([98, 2, 0], nd.seeding.DriverActorSelector(nd.seeding.DegreeCentralitySelector()))\n",
    "model_driver_02 = create_mic_model([90, 10, 0], nd.seeding.DriverActorSelector(nd.seeding.DegreeCentralitySelector()))"
   ]
  },
  {
   "cell_type": "code",
   "execution_count": 7,
   "metadata": {},
   "outputs": [],
   "source": [
    "models = {\n",
    "    \"degree_2\": model_degree_01,\n",
    "    \"degree_01\": model_degree_02,\n",
    "    \"btw_2\": model_btw_01,\n",
    "    \"btw_10\": model_btw_02,\n",
    "    \"close_2\": model_close_01,\n",
    "    \"close_10\": model_close_02,\n",
    "    \"VR_2\": model_VR_01,\n",
    "    \"VR_10\": model_VR_02,\n",
    "    \"driver_2\": model_driver_01,\n",
    "    \"driver_10\": model_driver_02\n",
    "}"
   ]
  },
  {
   "cell_type": "code",
   "execution_count": 8,
   "metadata": {},
   "outputs": [],
   "source": [
    "logs_dict = {}\n",
    "max_epochs = 50\n",
    "n_runs = 100\n",
    "patience = 1"
   ]
  },
  {
   "cell_type": "markdown",
   "metadata": {},
   "source": [
    "## Lazega"
   ]
  },
  {
   "cell_type": "code",
   "execution_count": 9,
   "metadata": {},
   "outputs": [],
   "source": [
    "network = lazega\n",
    "nb_actors = network.get_actors_num()"
   ]
  },
  {
   "cell_type": "code",
   "execution_count": 10,
   "metadata": {
    "scrolled": true
   },
   "outputs": [
    {
     "name": "stdout",
     "output_type": "stream",
     "text": [
      "Running experiment for model degree_2...\n"
     ]
    },
    {
     "name": "stderr",
     "output_type": "stream",
     "text": [
      "100%|██████████| 100/100 [00:02<00:00, 44.71it/s]\n"
     ]
    },
    {
     "name": "stdout",
     "output_type": "stream",
     "text": [
      "Activated actors: Avg = 69.11, Std = 1.1738398527908314\n",
      "Epochs executed: Avg = 5.17, Std = 0.548725796732758\n",
      "Running experiment for model degree_01...\n"
     ]
    },
    {
     "name": "stderr",
     "output_type": "stream",
     "text": [
      "100%|██████████| 100/100 [00:02<00:00, 47.37it/s]\n"
     ]
    },
    {
     "name": "stdout",
     "output_type": "stream",
     "text": [
      "Activated actors: Avg = 68.91, Std = 1.2735383779062175\n",
      "Epochs executed: Avg = 4.19, Std = 0.523354564325181\n",
      "Running experiment for model btw_2...\n"
     ]
    },
    {
     "name": "stderr",
     "output_type": "stream",
     "text": [
      "100%|██████████| 100/100 [00:04<00:00, 20.21it/s]\n"
     ]
    },
    {
     "name": "stdout",
     "output_type": "stream",
     "text": [
      "Activated actors: Avg = 69.11, Std = 1.370364914904056\n",
      "Epochs executed: Avg = 5.49, Std = 0.6556675987114201\n",
      "Running experiment for model btw_10...\n"
     ]
    },
    {
     "name": "stderr",
     "output_type": "stream",
     "text": [
      "100%|██████████| 100/100 [00:04<00:00, 21.80it/s]\n"
     ]
    },
    {
     "name": "stdout",
     "output_type": "stream",
     "text": [
      "Activated actors: Avg = 69.09, Std = 1.2813664581219537\n",
      "Epochs executed: Avg = 4.22, Std = 0.5211525688318154\n",
      "Running experiment for model close_2...\n"
     ]
    },
    {
     "name": "stderr",
     "output_type": "stream",
     "text": [
      "100%|██████████| 100/100 [00:03<00:00, 32.99it/s]\n"
     ]
    },
    {
     "name": "stdout",
     "output_type": "stream",
     "text": [
      "Activated actors: Avg = 69.42, Std = 1.2262136844775464\n",
      "Epochs executed: Avg = 5.31, Std = 0.5778408085277467\n",
      "Running experiment for model close_10...\n"
     ]
    },
    {
     "name": "stderr",
     "output_type": "stream",
     "text": [
      "100%|██████████| 100/100 [00:02<00:00, 36.74it/s]\n"
     ]
    },
    {
     "name": "stdout",
     "output_type": "stream",
     "text": [
      "Activated actors: Avg = 69.21, Std = 1.380543371285379\n",
      "Epochs executed: Avg = 4.22, Std = 0.5582114294781146\n",
      "Running experiment for model VR_2...\n"
     ]
    },
    {
     "name": "stderr",
     "output_type": "stream",
     "text": [
      "100%|██████████| 100/100 [01:08<00:00,  1.46it/s]\n"
     ]
    },
    {
     "name": "stdout",
     "output_type": "stream",
     "text": [
      "Activated actors: Avg = 69.26, Std = 1.221638244326036\n",
      "Epochs executed: Avg = 5.25, Std = 0.5545268253204708\n",
      "Running experiment for model VR_10...\n"
     ]
    },
    {
     "name": "stderr",
     "output_type": "stream",
     "text": [
      "100%|██████████| 100/100 [01:07<00:00,  1.49it/s]\n"
     ]
    },
    {
     "name": "stdout",
     "output_type": "stream",
     "text": [
      "Activated actors: Avg = 69.18, Std = 1.1864231959971112\n",
      "Epochs executed: Avg = 4.2, Std = 0.48989794855663554\n",
      "Running experiment for model driver_2...\n"
     ]
    },
    {
     "name": "stderr",
     "output_type": "stream",
     "text": [
      "100%|██████████| 100/100 [00:02<00:00, 39.58it/s]\n"
     ]
    },
    {
     "name": "stdout",
     "output_type": "stream",
     "text": [
      "Activated actors: Avg = 69.03, Std = 1.352442235365341\n",
      "Epochs executed: Avg = 5.34, Std = 0.62\n",
      "Running experiment for model driver_10...\n"
     ]
    },
    {
     "name": "stderr",
     "output_type": "stream",
     "text": [
      "100%|██████████| 100/100 [00:02<00:00, 42.75it/s]\n"
     ]
    },
    {
     "name": "stdout",
     "output_type": "stream",
     "text": [
      "Activated actors: Avg = 69.05, Std = 1.5451537140362444\n",
      "Epochs executed: Avg = 4.25, Std = 0.47696960070847283\n"
     ]
    }
   ],
   "source": [
    "for model_name, model in models.items():\n",
    "    print(f\"Running experiment for model {model_name}...\")\n",
    "\n",
    "    nb_activated_actors_model = []\n",
    "    nb_epochs_model = []\n",
    "\n",
    "    for run in tqdm(range(n_runs)):\n",
    "        experiment = nd.Simulator(model, network)\n",
    "        run_logs = experiment.perform_propagation(n_epochs=max_epochs, patience=patience)\n",
    "        nb_activated_actors_run, nb_epochs_run = functions.convert_micm_logs(run_logs, patience)\n",
    "        nb_activated_actors_model.append(nb_activated_actors_run)\n",
    "        nb_epochs_model.append(nb_epochs_run)\n",
    "\n",
    "    avg_activated_actors_model = np.mean(nb_activated_actors_model)\n",
    "    avg_epochs_model = np.mean(nb_epochs_model)\n",
    "    std_activated_actors_model = np.std(nb_activated_actors_model)\n",
    "    std_epochs_model = np.std(nb_epochs_model)\n",
    "\n",
    "    print(f\"Activated actors: Avg = {avg_activated_actors_model}, Std = {std_activated_actors_model}\")\n",
    "    print(f\"Epochs executed: Avg = {avg_epochs_model}, Std = {std_epochs_model}\")\n",
    "\n",
    "    logs_dict[f\"logs_lazega_{model_name}\"] = (\n",
    "        100 * avg_activated_actors_model / nb_actors,\n",
    "        avg_epochs_model,\n",
    "        100 * std_activated_actors_model / nb_actors,\n",
    "        std_epochs_model\n",
    "    )"
   ]
  },
  {
   "cell_type": "markdown",
   "metadata": {},
   "source": [
    "## Aucs"
   ]
  },
  {
   "cell_type": "code",
   "execution_count": 11,
   "metadata": {},
   "outputs": [],
   "source": [
    "network = aucs\n",
    "nb_actors = network.get_actors_num()"
   ]
  },
  {
   "cell_type": "code",
   "execution_count": 12,
   "metadata": {},
   "outputs": [
    {
     "name": "stdout",
     "output_type": "stream",
     "text": [
      "Running experiment for model degree_2...\n"
     ]
    },
    {
     "name": "stderr",
     "output_type": "stream",
     "text": [
      "100%|██████████| 100/100 [00:03<00:00, 33.00it/s]\n"
     ]
    },
    {
     "name": "stdout",
     "output_type": "stream",
     "text": [
      "Activated actors: Avg = 40.02, Std = 11.212475195067322\n",
      "Epochs executed: Avg = 7.62, Std = 2.4156986567036873\n",
      "Running experiment for model degree_01...\n"
     ]
    },
    {
     "name": "stderr",
     "output_type": "stream",
     "text": [
      "100%|██████████| 100/100 [00:02<00:00, 39.11it/s]\n"
     ]
    },
    {
     "name": "stdout",
     "output_type": "stream",
     "text": [
      "Activated actors: Avg = 44.13, Std = 5.256719509351816\n",
      "Epochs executed: Avg = 5.61, Std = 1.0853110153315502\n",
      "Running experiment for model btw_2...\n"
     ]
    },
    {
     "name": "stderr",
     "output_type": "stream",
     "text": [
      "100%|██████████| 100/100 [00:04<00:00, 22.57it/s]\n"
     ]
    },
    {
     "name": "stdout",
     "output_type": "stream",
     "text": [
      "Activated actors: Avg = 41.5, Std = 9.021640649017229\n",
      "Epochs executed: Avg = 7.73, Std = 1.907118244892015\n",
      "Running experiment for model btw_10...\n"
     ]
    },
    {
     "name": "stderr",
     "output_type": "stream",
     "text": [
      "100%|██████████| 100/100 [00:03<00:00, 25.64it/s]\n"
     ]
    },
    {
     "name": "stdout",
     "output_type": "stream",
     "text": [
      "Activated actors: Avg = 44.21, Std = 4.976534939091657\n",
      "Epochs executed: Avg = 5.62, Std = 1.1115754585272202\n",
      "Running experiment for model close_2...\n"
     ]
    },
    {
     "name": "stderr",
     "output_type": "stream",
     "text": [
      "100%|██████████| 100/100 [00:03<00:00, 27.13it/s]\n"
     ]
    },
    {
     "name": "stdout",
     "output_type": "stream",
     "text": [
      "Activated actors: Avg = 41.99, Std = 7.729805948405174\n",
      "Epochs executed: Avg = 7.93, Std = 1.8828435941415844\n",
      "Running experiment for model close_10...\n"
     ]
    },
    {
     "name": "stderr",
     "output_type": "stream",
     "text": [
      "100%|██████████| 100/100 [00:03<00:00, 32.65it/s]\n"
     ]
    },
    {
     "name": "stdout",
     "output_type": "stream",
     "text": [
      "Activated actors: Avg = 44.6, Std = 4.872371086031933\n",
      "Epochs executed: Avg = 5.85, Std = 1.3955285736952863\n",
      "Running experiment for model VR_2...\n"
     ]
    },
    {
     "name": "stderr",
     "output_type": "stream",
     "text": [
      "100%|██████████| 100/100 [00:23<00:00,  4.25it/s]\n"
     ]
    },
    {
     "name": "stdout",
     "output_type": "stream",
     "text": [
      "Activated actors: Avg = 41.07, Std = 10.480701312412258\n",
      "Epochs executed: Avg = 7.68, Std = 2.0390193721492693\n",
      "Running experiment for model VR_10...\n"
     ]
    },
    {
     "name": "stderr",
     "output_type": "stream",
     "text": [
      "100%|██████████| 100/100 [00:22<00:00,  4.38it/s]\n"
     ]
    },
    {
     "name": "stdout",
     "output_type": "stream",
     "text": [
      "Activated actors: Avg = 43.5, Std = 5.225897052181567\n",
      "Epochs executed: Avg = 5.63, Std = 1.2779280104919837\n",
      "Running experiment for model driver_2...\n"
     ]
    },
    {
     "name": "stderr",
     "output_type": "stream",
     "text": [
      "100%|██████████| 100/100 [00:03<00:00, 29.81it/s]\n"
     ]
    },
    {
     "name": "stdout",
     "output_type": "stream",
     "text": [
      "Activated actors: Avg = 40.71, Std = 11.698970040136011\n",
      "Epochs executed: Avg = 7.95, Std = 2.570505786805391\n",
      "Running experiment for model driver_10...\n"
     ]
    },
    {
     "name": "stderr",
     "output_type": "stream",
     "text": [
      "100%|██████████| 100/100 [00:02<00:00, 36.94it/s]"
     ]
    },
    {
     "name": "stdout",
     "output_type": "stream",
     "text": [
      "Activated actors: Avg = 44.43, Std = 5.070019723827512\n",
      "Epochs executed: Avg = 5.89, Std = 1.3992497989994495\n"
     ]
    },
    {
     "name": "stderr",
     "output_type": "stream",
     "text": [
      "\n"
     ]
    }
   ],
   "source": [
    "for model_name, model in models.items():\n",
    "    print(f\"Running experiment for model {model_name}...\")\n",
    "\n",
    "    nb_activated_actors_model = []\n",
    "    nb_epochs_model = []\n",
    "\n",
    "    for run in tqdm(range(n_runs)):\n",
    "        experiment = nd.Simulator(model, network)\n",
    "        run_logs = experiment.perform_propagation(n_epochs=max_epochs, patience=patience)\n",
    "        nb_activated_actors_run, nb_epochs_run = functions.convert_micm_logs(run_logs, patience)\n",
    "        nb_activated_actors_model.append(nb_activated_actors_run)\n",
    "        nb_epochs_model.append(nb_epochs_run)\n",
    "\n",
    "    avg_activated_actors_model = np.mean(nb_activated_actors_model)\n",
    "    avg_epochs_model = np.mean(nb_epochs_model)\n",
    "    std_activated_actors_model = np.std(nb_activated_actors_model)\n",
    "    std_epochs_model = np.std(nb_epochs_model)\n",
    "\n",
    "    print(f\"Activated actors: Avg = {avg_activated_actors_model}, Std = {std_activated_actors_model}\")\n",
    "    print(f\"Epochs executed: Avg = {avg_epochs_model}, Std = {std_epochs_model}\")\n",
    "\n",
    "    logs_dict[f\"logs_aucs_{model_name}\"] = (\n",
    "        100 * avg_activated_actors_model / nb_actors,\n",
    "        avg_epochs_model,\n",
    "        100 * std_activated_actors_model / nb_actors,\n",
    "        std_epochs_model\n",
    "    )"
   ]
  },
  {
   "cell_type": "markdown",
   "metadata": {},
   "source": [
    "## Data concatenation"
   ]
  },
  {
   "cell_type": "code",
   "execution_count": 13,
   "metadata": {},
   "outputs": [
    {
     "data": {
      "text/html": [
       "<div>\n",
       "<style scoped>\n",
       "    .dataframe tbody tr th:only-of-type {\n",
       "        vertical-align: middle;\n",
       "    }\n",
       "\n",
       "    .dataframe tbody tr th {\n",
       "        vertical-align: top;\n",
       "    }\n",
       "\n",
       "    .dataframe thead th {\n",
       "        text-align: right;\n",
       "    }\n",
       "</style>\n",
       "<table border=\"1\" class=\"dataframe\">\n",
       "  <thead>\n",
       "    <tr style=\"text-align: right;\">\n",
       "      <th></th>\n",
       "      <th>avg_activated_actors_model</th>\n",
       "      <th>avg_epochs_model</th>\n",
       "      <th>std_activated_actors_model</th>\n",
       "      <th>std_epochs_model</th>\n",
       "    </tr>\n",
       "  </thead>\n",
       "  <tbody>\n",
       "    <tr>\n",
       "      <th>logs_lazega_degree_2</th>\n",
       "      <td>97.338028</td>\n",
       "      <td>5.17</td>\n",
       "      <td>1.653296</td>\n",
       "      <td>0.548726</td>\n",
       "    </tr>\n",
       "    <tr>\n",
       "      <th>logs_lazega_degree_01</th>\n",
       "      <td>97.056338</td>\n",
       "      <td>4.19</td>\n",
       "      <td>1.793716</td>\n",
       "      <td>0.523355</td>\n",
       "    </tr>\n",
       "    <tr>\n",
       "      <th>logs_lazega_btw_2</th>\n",
       "      <td>97.338028</td>\n",
       "      <td>5.49</td>\n",
       "      <td>1.930091</td>\n",
       "      <td>0.655668</td>\n",
       "    </tr>\n",
       "    <tr>\n",
       "      <th>logs_lazega_btw_10</th>\n",
       "      <td>97.309859</td>\n",
       "      <td>4.22</td>\n",
       "      <td>1.804741</td>\n",
       "      <td>0.521153</td>\n",
       "    </tr>\n",
       "    <tr>\n",
       "      <th>logs_lazega_close_2</th>\n",
       "      <td>97.774648</td>\n",
       "      <td>5.31</td>\n",
       "      <td>1.727062</td>\n",
       "      <td>0.577841</td>\n",
       "    </tr>\n",
       "    <tr>\n",
       "      <th>logs_lazega_close_10</th>\n",
       "      <td>97.478873</td>\n",
       "      <td>4.22</td>\n",
       "      <td>1.944427</td>\n",
       "      <td>0.558211</td>\n",
       "    </tr>\n",
       "    <tr>\n",
       "      <th>logs_lazega_VR_2</th>\n",
       "      <td>97.549296</td>\n",
       "      <td>5.25</td>\n",
       "      <td>1.720617</td>\n",
       "      <td>0.554527</td>\n",
       "    </tr>\n",
       "    <tr>\n",
       "      <th>logs_lazega_VR_10</th>\n",
       "      <td>97.436620</td>\n",
       "      <td>4.20</td>\n",
       "      <td>1.671019</td>\n",
       "      <td>0.489898</td>\n",
       "    </tr>\n",
       "    <tr>\n",
       "      <th>logs_lazega_driver_2</th>\n",
       "      <td>97.225352</td>\n",
       "      <td>5.34</td>\n",
       "      <td>1.904848</td>\n",
       "      <td>0.620000</td>\n",
       "    </tr>\n",
       "    <tr>\n",
       "      <th>logs_lazega_driver_10</th>\n",
       "      <td>97.253521</td>\n",
       "      <td>4.25</td>\n",
       "      <td>2.176273</td>\n",
       "      <td>0.476970</td>\n",
       "    </tr>\n",
       "    <tr>\n",
       "      <th>logs_aucs_degree_2</th>\n",
       "      <td>65.606557</td>\n",
       "      <td>7.62</td>\n",
       "      <td>18.381107</td>\n",
       "      <td>2.415699</td>\n",
       "    </tr>\n",
       "    <tr>\n",
       "      <th>logs_aucs_degree_01</th>\n",
       "      <td>72.344262</td>\n",
       "      <td>5.61</td>\n",
       "      <td>8.617573</td>\n",
       "      <td>1.085311</td>\n",
       "    </tr>\n",
       "    <tr>\n",
       "      <th>logs_aucs_btw_2</th>\n",
       "      <td>68.032787</td>\n",
       "      <td>7.73</td>\n",
       "      <td>14.789575</td>\n",
       "      <td>1.907118</td>\n",
       "    </tr>\n",
       "    <tr>\n",
       "      <th>logs_aucs_btw_10</th>\n",
       "      <td>72.475410</td>\n",
       "      <td>5.62</td>\n",
       "      <td>8.158254</td>\n",
       "      <td>1.111575</td>\n",
       "    </tr>\n",
       "    <tr>\n",
       "      <th>logs_aucs_close_2</th>\n",
       "      <td>68.836066</td>\n",
       "      <td>7.93</td>\n",
       "      <td>12.671813</td>\n",
       "      <td>1.882844</td>\n",
       "    </tr>\n",
       "    <tr>\n",
       "      <th>logs_aucs_close_10</th>\n",
       "      <td>73.114754</td>\n",
       "      <td>5.85</td>\n",
       "      <td>7.987494</td>\n",
       "      <td>1.395529</td>\n",
       "    </tr>\n",
       "    <tr>\n",
       "      <th>logs_aucs_VR_2</th>\n",
       "      <td>67.327869</td>\n",
       "      <td>7.68</td>\n",
       "      <td>17.181478</td>\n",
       "      <td>2.039019</td>\n",
       "    </tr>\n",
       "    <tr>\n",
       "      <th>logs_aucs_VR_10</th>\n",
       "      <td>71.311475</td>\n",
       "      <td>5.63</td>\n",
       "      <td>8.567044</td>\n",
       "      <td>1.277928</td>\n",
       "    </tr>\n",
       "    <tr>\n",
       "      <th>logs_aucs_driver_2</th>\n",
       "      <td>66.737705</td>\n",
       "      <td>7.95</td>\n",
       "      <td>19.178639</td>\n",
       "      <td>2.570506</td>\n",
       "    </tr>\n",
       "    <tr>\n",
       "      <th>logs_aucs_driver_10</th>\n",
       "      <td>72.836066</td>\n",
       "      <td>5.89</td>\n",
       "      <td>8.311508</td>\n",
       "      <td>1.399250</td>\n",
       "    </tr>\n",
       "  </tbody>\n",
       "</table>\n",
       "</div>"
      ],
      "text/plain": [
       "                       avg_activated_actors_model  avg_epochs_model  \\\n",
       "logs_lazega_degree_2                    97.338028              5.17   \n",
       "logs_lazega_degree_01                   97.056338              4.19   \n",
       "logs_lazega_btw_2                       97.338028              5.49   \n",
       "logs_lazega_btw_10                      97.309859              4.22   \n",
       "logs_lazega_close_2                     97.774648              5.31   \n",
       "logs_lazega_close_10                    97.478873              4.22   \n",
       "logs_lazega_VR_2                        97.549296              5.25   \n",
       "logs_lazega_VR_10                       97.436620              4.20   \n",
       "logs_lazega_driver_2                    97.225352              5.34   \n",
       "logs_lazega_driver_10                   97.253521              4.25   \n",
       "logs_aucs_degree_2                      65.606557              7.62   \n",
       "logs_aucs_degree_01                     72.344262              5.61   \n",
       "logs_aucs_btw_2                         68.032787              7.73   \n",
       "logs_aucs_btw_10                        72.475410              5.62   \n",
       "logs_aucs_close_2                       68.836066              7.93   \n",
       "logs_aucs_close_10                      73.114754              5.85   \n",
       "logs_aucs_VR_2                          67.327869              7.68   \n",
       "logs_aucs_VR_10                         71.311475              5.63   \n",
       "logs_aucs_driver_2                      66.737705              7.95   \n",
       "logs_aucs_driver_10                     72.836066              5.89   \n",
       "\n",
       "                       std_activated_actors_model  std_epochs_model  \n",
       "logs_lazega_degree_2                     1.653296          0.548726  \n",
       "logs_lazega_degree_01                    1.793716          0.523355  \n",
       "logs_lazega_btw_2                        1.930091          0.655668  \n",
       "logs_lazega_btw_10                       1.804741          0.521153  \n",
       "logs_lazega_close_2                      1.727062          0.577841  \n",
       "logs_lazega_close_10                     1.944427          0.558211  \n",
       "logs_lazega_VR_2                         1.720617          0.554527  \n",
       "logs_lazega_VR_10                        1.671019          0.489898  \n",
       "logs_lazega_driver_2                     1.904848          0.620000  \n",
       "logs_lazega_driver_10                    2.176273          0.476970  \n",
       "logs_aucs_degree_2                      18.381107          2.415699  \n",
       "logs_aucs_degree_01                      8.617573          1.085311  \n",
       "logs_aucs_btw_2                         14.789575          1.907118  \n",
       "logs_aucs_btw_10                         8.158254          1.111575  \n",
       "logs_aucs_close_2                       12.671813          1.882844  \n",
       "logs_aucs_close_10                       7.987494          1.395529  \n",
       "logs_aucs_VR_2                          17.181478          2.039019  \n",
       "logs_aucs_VR_10                          8.567044          1.277928  \n",
       "logs_aucs_driver_2                      19.178639          2.570506  \n",
       "logs_aucs_driver_10                      8.311508          1.399250  "
      ]
     },
     "execution_count": 13,
     "metadata": {},
     "output_type": "execute_result"
    }
   ],
   "source": [
    "logs_df = pd.DataFrame(logs_dict).T.rename(\n",
    "    columns={0: \"avg_activated_actors_model\", 1: \"avg_epochs_model\", 2: \"std_activated_actors_model\", 3: \"std_epochs_model\"}\n",
    ")\n",
    "logs_df.to_csv(f\"{out_dir}/logs.csv\")\n",
    "logs_df"
   ]
  },
  {
   "cell_type": "markdown",
   "metadata": {},
   "source": [
    "## Visualisation"
   ]
  },
  {
   "cell_type": "code",
   "execution_count": 23,
   "metadata": {},
   "outputs": [
    {
     "name": "stderr",
     "output_type": "stream",
     "text": [
      "                                                                                          ?, ?it/s]\r"
     ]
    }
   ],
   "source": [
    "experiment = nd.Simulator(model_driver_02, aucs)\n",
    "logs = experiment.perform_propagation(n_epochs=10, patience=patience)"
   ]
  },
  {
   "cell_type": "code",
   "execution_count": 24,
   "metadata": {},
   "outputs": [
    {
     "data": {
      "text/plain": [
       "[{'facebook': (('0', 26), ('1', 6)),\n",
       "  'lunch': (('0', 54), ('1', 6)),\n",
       "  'coauthor': (('0', 23), ('1', 2)),\n",
       "  'leisure': (('0', 43), ('1', 4)),\n",
       "  'work': (('0', 54), ('1', 6))},\n",
       " {'facebook': (('0', 19), ('-1', 6), ('1', 7)),\n",
       "  'lunch': (('0', 41), ('1', 13), ('-1', 6)),\n",
       "  'coauthor': (('0', 15), ('1', 8), ('-1', 2)),\n",
       "  'leisure': (('0', 32), ('1', 11), ('-1', 4)),\n",
       "  'work': (('0', 41), ('1', 13), ('-1', 6))},\n",
       " {'facebook': (('1', 10), ('-1', 13), ('0', 9)),\n",
       "  'lunch': (('0', 24), ('1', 17), ('-1', 19)),\n",
       "  'coauthor': (('1', 5), ('-1', 10), ('0', 10)),\n",
       "  'leisure': (('1', 13), ('-1', 15), ('0', 19)),\n",
       "  'work': (('1', 17), ('-1', 19), ('0', 24))},\n",
       " {'facebook': (('-1', 23), ('0', 4), ('1', 5)),\n",
       "  'lunch': (('1', 11), ('-1', 36), ('0', 13)),\n",
       "  'coauthor': (('-1', 15), ('1', 4), ('0', 6)),\n",
       "  'leisure': (('-1', 28), ('1', 8), ('0', 11)),\n",
       "  'work': (('-1', 36), ('0', 14), ('1', 10))},\n",
       " {'facebook': (('-1', 28), ('0', 3), ('1', 1)),\n",
       "  'lunch': (('-1', 47), ('0', 8), ('1', 5)),\n",
       "  'coauthor': (('-1', 19), ('1', 2), ('0', 4)),\n",
       "  'leisure': (('-1', 36), ('1', 5), ('0', 6)),\n",
       "  'work': (('-1', 46), ('0', 9), ('1', 5))},\n",
       " {'facebook': (('-1', 29), ('0', 3)),\n",
       "  'lunch': (('-1', 52), ('0', 7), ('1', 1)),\n",
       "  'coauthor': (('-1', 21), ('0', 3), ('1', 1)),\n",
       "  'leisure': (('-1', 41), ('0', 5), ('1', 1)),\n",
       "  'work': (('-1', 51), ('0', 8), ('1', 1))},\n",
       " {'facebook': (('-1', 29), ('0', 3)),\n",
       "  'lunch': (('-1', 53), ('0', 7)),\n",
       "  'coauthor': (('-1', 22), ('0', 3)),\n",
       "  'leisure': (('-1', 42), ('0', 5)),\n",
       "  'work': (('-1', 52), ('0', 8))},\n",
       " {'facebook': (('-1', 29), ('0', 3)),\n",
       "  'lunch': (('-1', 53), ('0', 7)),\n",
       "  'coauthor': (('-1', 22), ('0', 3)),\n",
       "  'leisure': (('-1', 42), ('0', 5)),\n",
       "  'work': (('-1', 52), ('0', 8))}]"
      ]
     },
     "execution_count": 24,
     "metadata": {},
     "output_type": "execute_result"
    }
   ],
   "source": [
    "# bulk logs from entire simulation that concatenate states of agents per each layer of the network\n",
    "exp_01 = logs._global_stats\n",
    "exp_01"
   ]
  },
  {
   "cell_type": "code",
   "execution_count": 25,
   "metadata": {},
   "outputs": [],
   "source": [
    "# Convert the data to a JSON-compatible format\n",
    "json_compatible_data = []\n",
    "for record in exp_01:\n",
    "    new_record = {}\n",
    "    for key, value in record.items():\n",
    "        new_record[key] = [list(item) for item in value]\n",
    "    json_compatible_data.append(new_record)\n",
    "\n",
    "# Write to a JSON file\n",
    "file_path = f\"{out_dir}/exp_visualise.json\"\n",
    "with open(file_path, 'w') as f:\n",
    "    json.dump(json_compatible_data, f)"
   ]
  },
  {
   "cell_type": "code",
   "execution_count": 26,
   "metadata": {},
   "outputs": [],
   "source": [
    "# Load the data from a JSON file\n",
    "file_path = f\"{out_dir}/exp_visualise.json\"\n",
    "with open(file_path, 'r') as f:\n",
    "    loaded_data = json.load(f)\n",
    "\n",
    "# Convert the data back to its original form\n",
    "parsed_data = []\n",
    "for record in loaded_data:\n",
    "    new_record = {}\n",
    "    for key, value in record.items():\n",
    "        new_record[key] = [tuple(item) for item in value]\n",
    "    parsed_data.append(new_record)"
   ]
  },
  {
   "cell_type": "code",
   "execution_count": 27,
   "metadata": {},
   "outputs": [
    {
     "data": {
      "image/png": "[encoded data removed]",
      "text/plain": [
       "<Figure size 2000x430 with 5 Axes>"
      ]
     },
     "metadata": {},
     "output_type": "display_data"
    }
   ],
   "source": [
    "layers = ['facebook', 'lunch', 'coauthor', 'leisure', 'work']\n",
    "statuses = ['0', '1', '-1']\n",
    "status_labels = {'0': 'Inactive', '1': 'Active', '-1': 'Activated'}  # Mapping from status to label\n",
    "plot_data = {layer: {status: [] for status in statuses} for layer in layers}\n",
    "\n",
    "# Populate the plot data\n",
    "for epoch, record in enumerate(parsed_data):\n",
    "    for layer in layers:\n",
    "        layer_data = dict(record.get(layer, []))\n",
    "        for status in statuses:\n",
    "            plot_data[layer][status].append(layer_data.get(status, 0))\n",
    "\n",
    "# Generate plots\n",
    "fig, axes = plt.subplots(1, len(layers), figsize=(20, 4.3), sharey=True)\n",
    "\n",
    "for ax, layer in zip(axes, layers):\n",
    "    for status, color in zip(statuses, ['r', 'g', 'b']):\n",
    "        label = status_labels[status]  # Get the label from the mapping\n",
    "        ax.plot(plot_data[layer][status], color=color, label=label)  # Use the label in the plot\n",
    "    ax.set_title(layer.capitalize(), fontsize=16)\n",
    "    ax.set_xlabel('Epoch', fontsize=14)\n",
    "    ax.legend(fontsize=11)\n",
    "\n",
    "axes[0].set_ylabel('Number of Nodes', fontsize=14)\n",
    "plt.savefig(f\"{out_dir}/spreading.pdf\", format=\"pdf\")\n",
    "plt.show()"
   ]
  }
 ],
 "metadata": {
  "kernelspec": {
   "display_name": "bdma",
   "language": "python",
   "name": "bdma"
  },
  "language_info": {
   "codemirror_mode": {
    "name": "ipython",
    "version": 3
   },
   "file_extension": ".py",
   "mimetype": "text/x-python",
   "name": "python",
   "nbconvert_exporter": "python",
   "pygments_lexer": "ipython3",
   "version": "3.10.13"
  }
 },
 "nbformat": 4,
 "nbformat_minor": 4
}
