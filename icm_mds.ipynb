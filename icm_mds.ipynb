{
 "cells": [
  {
   "cell_type": "code",
   "execution_count": 1,
   "metadata": {},
   "outputs": [],
   "source": [
    "import json\n",
    "\n",
    "import matplotlib.pyplot as plt\n",
    "import network_diffusion as nd\n",
    "import networkx as nx\n",
    "import numpy as np\n",
    "import pandas as pd\n",
    "\n",
    "from tqdm import tqdm\n",
    "from utils import functions, networks\n",
    "\n",
    "%load_ext autoreload\n",
    "%autoreload 2"
   ]
  },
  {
   "cell_type": "code",
   "execution_count": 2,
   "metadata": {},
   "outputs": [],
   "source": [
    "functions.set_seed(42)"
   ]
  },
  {
   "cell_type": "code",
   "execution_count": 3,
   "metadata": {},
   "outputs": [],
   "source": [
    "out_dir = \"icm_mds\"\n",
    "\n",
    "max_epochs = 50\n",
    "n_runs = 100\n",
    "patience = 1\n",
    "\n",
    "protocol = \"AND\"\n",
    "probability = 0.5"
   ]
  },
  {
   "cell_type": "markdown",
   "metadata": {},
   "source": [
    "## ICM on Multilayer Network"
   ]
  },
  {
   "cell_type": "code",
   "execution_count": 4,
   "metadata": {},
   "outputs": [],
   "source": [
    "aucs = networks.get_aucs_network()\n",
    "lazega = networks.get_lazega_network()"
   ]
  },
  {
   "cell_type": "code",
   "execution_count": 5,
   "metadata": {},
   "outputs": [
    {
     "name": "stdout",
     "output_type": "stream",
     "text": [
      "============================================\n",
      "network parameters\n",
      "--------------------------------------------\n",
      "general parameters:\n",
      "\tnumber of layers: 5\n",
      "\tnumber of actors: 61\n",
      "\n",
      "layer 'facebook' parameters:\n",
      "\tgraph type - <class 'networkx.classes.graph.Graph'>\n",
      "\tnumber of nodes - 32\n",
      "\tnumber of edges - 124\n",
      "\taverage degree - 7.75\n",
      "\tclustering coefficient - 0.5404\n",
      "\n",
      "layer 'lunch' parameters:\n",
      "\tgraph type - <class 'networkx.classes.graph.Graph'>\n",
      "\tnumber of nodes - 60\n",
      "\tnumber of edges - 193\n",
      "\taverage degree - 6.4333\n",
      "\tclustering coefficient - 0.6733\n",
      "\n",
      "layer 'coauthor' parameters:\n",
      "\tgraph type - <class 'networkx.classes.graph.Graph'>\n",
      "\tnumber of nodes - 25\n",
      "\tnumber of edges - 21\n",
      "\taverage degree - 1.68\n",
      "\tclustering coefficient - 0.268\n",
      "\n",
      "layer 'leisure' parameters:\n",
      "\tgraph type - <class 'networkx.classes.graph.Graph'>\n",
      "\tnumber of nodes - 47\n",
      "\tnumber of edges - 88\n",
      "\taverage degree - 3.7447\n",
      "\tclustering coefficient - 0.3925\n",
      "\n",
      "layer 'work' parameters:\n",
      "\tgraph type - <class 'networkx.classes.graph.Graph'>\n",
      "\tnumber of nodes - 60\n",
      "\tnumber of edges - 194\n",
      "\taverage degree - 6.4667\n",
      "\tclustering coefficient - 0.6396\n",
      "============================================\n"
     ]
    }
   ],
   "source": [
    "print(aucs)"
   ]
  },
  {
   "cell_type": "code",
   "execution_count": 6,
   "metadata": {},
   "outputs": [
    {
     "name": "stdout",
     "output_type": "stream",
     "text": [
      "============================================\n",
      "network parameters\n",
      "--------------------------------------------\n",
      "general parameters:\n",
      "\tnumber of layers: 3\n",
      "\tnumber of actors: 71\n",
      "\n",
      "layer 'advice' parameters:\n",
      "\tgraph type - <class 'networkx.classes.graph.Graph'>\n",
      "\tnumber of nodes - 71\n",
      "\tnumber of edges - 556\n",
      "\taverage degree - 15.662\n",
      "\tclustering coefficient - 0.376\n",
      "\n",
      "layer 'friendship' parameters:\n",
      "\tgraph type - <class 'networkx.classes.graph.Graph'>\n",
      "\tnumber of nodes - 71\n",
      "\tnumber of edges - 725\n",
      "\taverage degree - 20.4225\n",
      "\tclustering coefficient - 0.4493\n",
      "\n",
      "layer 'co-work' parameters:\n",
      "\tgraph type - <class 'networkx.classes.graph.Graph'>\n",
      "\tnumber of nodes - 70\n",
      "\tnumber of edges - 378\n",
      "\taverage degree - 10.8\n",
      "\tclustering coefficient - 0.3908\n",
      "============================================\n"
     ]
    }
   ],
   "source": [
    "print(lazega)"
   ]
  },
  {
   "cell_type": "code",
   "execution_count": 7,
   "metadata": {},
   "outputs": [],
   "source": [
    "# propagation prob: 0.1, buget 2% active\n",
    "def create_mic_model(seeding_budget, seed_selector, protocol, probability):\n",
    "    return nd.models.MICModel(\n",
    "        seeding_budget=seeding_budget,\n",
    "        seed_selector=seed_selector,\n",
    "        protocol=protocol,\n",
    "        probability=probability,\n",
    "    )"
   ]
  },
  {
   "cell_type": "code",
   "execution_count": 8,
   "metadata": {},
   "outputs": [],
   "source": [
    "model_degree_01 = create_mic_model([95, 5, 0], nd.seeding.DegreeCentralitySelector(), protocol, probability)\n",
    "model_btw_01 = create_mic_model([95, 5, 0], nd.seeding.BetweennessSelector(), protocol, probability)\n",
    "model_close_01 = create_mic_model([95, 5, 0], nd.seeding.ClosenessSelector(), protocol, probability)\n",
    "model_VR_01 = create_mic_model([95, 5, 0], nd.seeding.VoteRankMLNSeedSelector(), protocol, probability)\n",
    "model_driver_01 = create_mic_model([95, 5, 0], nd.seeding.DriverActorSelector(nd.seeding.DegreeCentralitySelector()), protocol, probability)\n",
    "\n",
    "model_degree_02 = create_mic_model([90, 10, 0], nd.seeding.DegreeCentralitySelector(), protocol, probability)\n",
    "model_btw_02 = create_mic_model([90, 10, 0], nd.seeding.BetweennessSelector(), protocol, probability)\n",
    "model_close_02 = create_mic_model([90, 10, 0], nd.seeding.ClosenessSelector(), protocol, probability)\n",
    "model_VR_02 = create_mic_model([90, 10, 0], nd.seeding.VoteRankMLNSeedSelector(), protocol, probability)\n",
    "model_driver_02 = create_mic_model([90, 10, 0], nd.seeding.DriverActorSelector(nd.seeding.DegreeCentralitySelector()), protocol, probability)"
   ]
  },
  {
   "cell_type": "code",
   "execution_count": 9,
   "metadata": {},
   "outputs": [],
   "source": [
    "models = {\n",
    "    \"degree_05\": model_degree_01,\n",
    "    \"degree_10\": model_degree_02,\n",
    "    \"btw_05\": model_btw_01,\n",
    "    \"btw_10\": model_btw_02,\n",
    "    \"close_05\": model_close_01,\n",
    "    \"close_10\": model_close_02,\n",
    "    \"VR_05\": model_VR_01,\n",
    "    \"VR_10\": model_VR_02,\n",
    "    \"driver_05\": model_driver_01,\n",
    "    \"driver_10\": model_driver_02\n",
    "}"
   ]
  },
  {
   "cell_type": "code",
   "execution_count": 10,
   "metadata": {},
   "outputs": [],
   "source": [
    "logs_dict = {}"
   ]
  },
  {
   "cell_type": "markdown",
   "metadata": {},
   "source": [
    "## Lazega"
   ]
  },
  {
   "cell_type": "code",
   "execution_count": 11,
   "metadata": {},
   "outputs": [],
   "source": [
    "network = lazega\n",
    "nb_actors = network.get_actors_num()"
   ]
  },
  {
   "cell_type": "code",
   "execution_count": 12,
   "metadata": {
    "scrolled": true
   },
   "outputs": [
    {
     "name": "stdout",
     "output_type": "stream",
     "text": [
      "Running experiment for model degree_05...\n"
     ]
    },
    {
     "name": "stderr",
     "output_type": "stream",
     "text": [
      "100%|██████████| 100/100 [00:02<00:00, 37.98it/s]\n"
     ]
    },
    {
     "name": "stdout",
     "output_type": "stream",
     "text": [
      "Activated actors: Avg = 56.21, Std = 12.59467744723937\n",
      "Epochs executed: Avg = 6.01, Std = 0.9949371839468059\n",
      "Running experiment for model degree_10...\n"
     ]
    },
    {
     "name": "stderr",
     "output_type": "stream",
     "text": [
      "100%|██████████| 100/100 [00:02<00:00, 45.05it/s]\n"
     ]
    },
    {
     "name": "stdout",
     "output_type": "stream",
     "text": [
      "Activated actors: Avg = 62.76, Std = 2.5024787711387284\n",
      "Epochs executed: Avg = 4.37, Std = 0.5225897052181568\n",
      "Running experiment for model btw_05...\n"
     ]
    },
    {
     "name": "stderr",
     "output_type": "stream",
     "text": [
      "100%|██████████| 100/100 [00:05<00:00, 19.39it/s]\n"
     ]
    },
    {
     "name": "stdout",
     "output_type": "stream",
     "text": [
      "Activated actors: Avg = 55.4, Std = 11.028145809699835\n",
      "Epochs executed: Avg = 6.02, Std = 0.9589577675789482\n",
      "Running experiment for model btw_10...\n"
     ]
    },
    {
     "name": "stderr",
     "output_type": "stream",
     "text": [
      "100%|██████████| 100/100 [00:04<00:00, 21.35it/s]\n"
     ]
    },
    {
     "name": "stdout",
     "output_type": "stream",
     "text": [
      "Activated actors: Avg = 63.42, Std = 2.4132136250236944\n",
      "Epochs executed: Avg = 4.27, Std = 0.4439594576084623\n",
      "Running experiment for model close_05...\n"
     ]
    },
    {
     "name": "stderr",
     "output_type": "stream",
     "text": [
      "100%|██████████| 100/100 [00:03<00:00, 30.67it/s]\n"
     ]
    },
    {
     "name": "stdout",
     "output_type": "stream",
     "text": [
      "Activated actors: Avg = 55.77, Std = 9.279929956632216\n",
      "Epochs executed: Avg = 6.17, Std = 0.8950418984606252\n",
      "Running experiment for model close_10...\n"
     ]
    },
    {
     "name": "stderr",
     "output_type": "stream",
     "text": [
      "100%|██████████| 100/100 [00:02<00:00, 34.80it/s]\n"
     ]
    },
    {
     "name": "stdout",
     "output_type": "stream",
     "text": [
      "Activated actors: Avg = 63.26, Std = 2.381680079271773\n",
      "Epochs executed: Avg = 4.43, Std = 0.5701754116059373\n",
      "Running experiment for model VR_05...\n"
     ]
    },
    {
     "name": "stderr",
     "output_type": "stream",
     "text": [
      "100%|██████████| 100/100 [01:09<00:00,  1.44it/s]\n"
     ]
    },
    {
     "name": "stdout",
     "output_type": "stream",
     "text": [
      "Activated actors: Avg = 58.29, Std = 9.443828672736498\n",
      "Epochs executed: Avg = 5.84, Std = 0.9024411338142783\n",
      "Running experiment for model VR_10...\n"
     ]
    },
    {
     "name": "stderr",
     "output_type": "stream",
     "text": [
      "100%|██████████| 100/100 [01:07<00:00,  1.47it/s]\n"
     ]
    },
    {
     "name": "stdout",
     "output_type": "stream",
     "text": [
      "Activated actors: Avg = 63.21, Std = 2.4136901209558776\n",
      "Epochs executed: Avg = 4.44, Std = 0.49638694583963433\n",
      "Running experiment for model driver_05...\n"
     ]
    },
    {
     "name": "stderr",
     "output_type": "stream",
     "text": [
      "100%|██████████| 100/100 [00:02<00:00, 37.36it/s]\n"
     ]
    },
    {
     "name": "stdout",
     "output_type": "stream",
     "text": [
      "Activated actors: Avg = 59.84, Std = 4.535901233492634\n",
      "Epochs executed: Avg = 5.81, Std = 0.7575618786607469\n",
      "Running experiment for model driver_10...\n"
     ]
    },
    {
     "name": "stderr",
     "output_type": "stream",
     "text": [
      "100%|██████████| 100/100 [00:02<00:00, 43.09it/s]\n"
     ]
    },
    {
     "name": "stdout",
     "output_type": "stream",
     "text": [
      "Activated actors: Avg = 62.65, Std = 2.616772821625905\n",
      "Epochs executed: Avg = 4.25, Std = 0.4330127018922193\n"
     ]
    }
   ],
   "source": [
    "for model_name, model in models.items():\n",
    "    print(f\"Running experiment for model {model_name}...\")\n",
    "\n",
    "    nb_activated_actors_model = []\n",
    "    nb_epochs_model = []\n",
    "\n",
    "    for run in tqdm(range(n_runs)):\n",
    "        experiment = nd.Simulator(model, network)\n",
    "        run_logs = experiment.perform_propagation(n_epochs=max_epochs, patience=patience)\n",
    "        nb_activated_actors_run, nb_epochs_run = functions.convert_micm_logs(run_logs, patience)\n",
    "        nb_activated_actors_model.append(nb_activated_actors_run)\n",
    "        nb_epochs_model.append(nb_epochs_run)\n",
    "\n",
    "    avg_activated_actors_model = np.mean(nb_activated_actors_model)\n",
    "    avg_epochs_model = np.mean(nb_epochs_model)\n",
    "    std_activated_actors_model = np.std(nb_activated_actors_model)\n",
    "    std_epochs_model = np.std(nb_epochs_model)\n",
    "\n",
    "    print(f\"Activated actors: Avg = {avg_activated_actors_model}, Std = {std_activated_actors_model}\")\n",
    "    print(f\"Epochs executed: Avg = {avg_epochs_model}, Std = {std_epochs_model}\")\n",
    "\n",
    "    logs_dict[f\"logs_lazega_{model_name}\"] = (\n",
    "        100 * avg_activated_actors_model / nb_actors,\n",
    "        avg_epochs_model,\n",
    "        100 * std_activated_actors_model / nb_actors,\n",
    "        std_epochs_model\n",
    "    )"
   ]
  },
  {
   "cell_type": "markdown",
   "metadata": {},
   "source": [
    "## Aucs"
   ]
  },
  {
   "cell_type": "code",
   "execution_count": 13,
   "metadata": {},
   "outputs": [],
   "source": [
    "network = aucs\n",
    "nb_actors = network.get_actors_num()"
   ]
  },
  {
   "cell_type": "code",
   "execution_count": 14,
   "metadata": {},
   "outputs": [
    {
     "name": "stdout",
     "output_type": "stream",
     "text": [
      "Running experiment for model degree_05...\n"
     ]
    },
    {
     "name": "stderr",
     "output_type": "stream",
     "text": [
      "100%|██████████| 100/100 [00:01<00:00, 53.33it/s]\n"
     ]
    },
    {
     "name": "stdout",
     "output_type": "stream",
     "text": [
      "Activated actors: Avg = 7.24, Std = 2.020494988857928\n",
      "Epochs executed: Avg = 2.8, Std = 0.7483314773547882\n",
      "Running experiment for model degree_10...\n"
     ]
    },
    {
     "name": "stderr",
     "output_type": "stream",
     "text": [
      "100%|██████████| 100/100 [00:02<00:00, 49.59it/s]\n"
     ]
    },
    {
     "name": "stdout",
     "output_type": "stream",
     "text": [
      "Activated actors: Avg = 12.38, Std = 1.9119623427254\n",
      "Epochs executed: Avg = 2.74, Std = 0.48207883172775784\n",
      "Running experiment for model btw_05...\n"
     ]
    },
    {
     "name": "stderr",
     "output_type": "stream",
     "text": [
      "100%|██████████| 100/100 [00:03<00:00, 30.30it/s]\n"
     ]
    },
    {
     "name": "stdout",
     "output_type": "stream",
     "text": [
      "Activated actors: Avg = 6.01, Std = 1.6216966424088077\n",
      "Epochs executed: Avg = 2.63, Std = 0.7701298591796062\n",
      "Running experiment for model btw_10...\n"
     ]
    },
    {
     "name": "stderr",
     "output_type": "stream",
     "text": [
      "100%|██████████| 100/100 [00:03<00:00, 30.66it/s]\n"
     ]
    },
    {
     "name": "stdout",
     "output_type": "stream",
     "text": [
      "Activated actors: Avg = 11.36, Std = 1.7234848418248416\n",
      "Epochs executed: Avg = 2.8, Std = 0.5099019513592784\n",
      "Running experiment for model close_05...\n"
     ]
    },
    {
     "name": "stderr",
     "output_type": "stream",
     "text": [
      "100%|██████████| 100/100 [00:02<00:00, 42.45it/s]\n"
     ]
    },
    {
     "name": "stdout",
     "output_type": "stream",
     "text": [
      "Activated actors: Avg = 5.47, Std = 1.1353853971229328\n",
      "Epochs executed: Avg = 2.44, Std = 0.5885575587824864\n",
      "Running experiment for model close_10...\n"
     ]
    },
    {
     "name": "stderr",
     "output_type": "stream",
     "text": [
      "100%|██████████| 100/100 [00:02<00:00, 43.06it/s]\n"
     ]
    },
    {
     "name": "stdout",
     "output_type": "stream",
     "text": [
      "Activated actors: Avg = 9.85, Std = 1.306713434537198\n",
      "Epochs executed: Avg = 2.55, Std = 0.5545268253204708\n",
      "Running experiment for model VR_05...\n"
     ]
    },
    {
     "name": "stderr",
     "output_type": "stream",
     "text": [
      "100%|██████████| 100/100 [00:22<00:00,  4.49it/s]\n"
     ]
    },
    {
     "name": "stdout",
     "output_type": "stream",
     "text": [
      "Activated actors: Avg = 7.15, Std = 2.4305349205473274\n",
      "Epochs executed: Avg = 3.05, Std = 0.9420721840708385\n",
      "Running experiment for model VR_10...\n"
     ]
    },
    {
     "name": "stderr",
     "output_type": "stream",
     "text": [
      "100%|██████████| 100/100 [00:21<00:00,  4.59it/s]\n"
     ]
    },
    {
     "name": "stdout",
     "output_type": "stream",
     "text": [
      "Activated actors: Avg = 11.44, Std = 1.9815145722401335\n",
      "Epochs executed: Avg = 2.72, Std = 0.6177378084592201\n",
      "Running experiment for model driver_05...\n"
     ]
    },
    {
     "name": "stderr",
     "output_type": "stream",
     "text": [
      "100%|██████████| 100/100 [00:01<00:00, 51.01it/s]\n"
     ]
    },
    {
     "name": "stdout",
     "output_type": "stream",
     "text": [
      "Activated actors: Avg = 7.26, Std = 2.0621348161553357\n",
      "Epochs executed: Avg = 2.78, Std = 0.7691553809211764\n",
      "Running experiment for model driver_10...\n"
     ]
    },
    {
     "name": "stderr",
     "output_type": "stream",
     "text": [
      "100%|██████████| 100/100 [00:01<00:00, 52.21it/s]"
     ]
    },
    {
     "name": "stdout",
     "output_type": "stream",
     "text": [
      "Activated actors: Avg = 12.25, Std = 2.011839953873071\n",
      "Epochs executed: Avg = 2.79, Std = 0.534696175411794\n"
     ]
    },
    {
     "name": "stderr",
     "output_type": "stream",
     "text": [
      "\n"
     ]
    }
   ],
   "source": [
    "for model_name, model in models.items():\n",
    "    print(f\"Running experiment for model {model_name}...\")\n",
    "\n",
    "    nb_activated_actors_model = []\n",
    "    nb_epochs_model = []\n",
    "\n",
    "    for run in tqdm(range(n_runs)):\n",
    "        experiment = nd.Simulator(model, network)\n",
    "        run_logs = experiment.perform_propagation(n_epochs=max_epochs, patience=patience)\n",
    "        nb_activated_actors_run, nb_epochs_run = functions.convert_micm_logs(run_logs, patience)\n",
    "        nb_activated_actors_model.append(nb_activated_actors_run)\n",
    "        nb_epochs_model.append(nb_epochs_run)\n",
    "\n",
    "    avg_activated_actors_model = np.mean(nb_activated_actors_model)\n",
    "    avg_epochs_model = np.mean(nb_epochs_model)\n",
    "    std_activated_actors_model = np.std(nb_activated_actors_model)\n",
    "    std_epochs_model = np.std(nb_epochs_model)\n",
    "\n",
    "    print(f\"Activated actors: Avg = {avg_activated_actors_model}, Std = {std_activated_actors_model}\")\n",
    "    print(f\"Epochs executed: Avg = {avg_epochs_model}, Std = {std_epochs_model}\")\n",
    "\n",
    "    logs_dict[f\"logs_aucs_{model_name}\"] = (\n",
    "        100 * avg_activated_actors_model / nb_actors,\n",
    "        avg_epochs_model,\n",
    "        100 * std_activated_actors_model / nb_actors,\n",
    "        std_epochs_model\n",
    "    )"
   ]
  },
  {
   "cell_type": "markdown",
   "metadata": {},
   "source": [
    "## Data concatenation"
   ]
  },
  {
   "cell_type": "code",
   "execution_count": 15,
   "metadata": {},
   "outputs": [
    {
     "data": {
      "text/html": [
       "<div>\n",
       "<style scoped>\n",
       "    .dataframe tbody tr th:only-of-type {\n",
       "        vertical-align: middle;\n",
       "    }\n",
       "\n",
       "    .dataframe tbody tr th {\n",
       "        vertical-align: top;\n",
       "    }\n",
       "\n",
       "    .dataframe thead th {\n",
       "        text-align: right;\n",
       "    }\n",
       "</style>\n",
       "<table border=\"1\" class=\"dataframe\">\n",
       "  <thead>\n",
       "    <tr style=\"text-align: right;\">\n",
       "      <th></th>\n",
       "      <th>avg_activated_actors_model</th>\n",
       "      <th>avg_epochs_model</th>\n",
       "      <th>std_activated_actors_model</th>\n",
       "      <th>std_epochs_model</th>\n",
       "    </tr>\n",
       "  </thead>\n",
       "  <tbody>\n",
       "    <tr>\n",
       "      <th>logs_lazega_degree_05</th>\n",
       "      <td>79.169014</td>\n",
       "      <td>6.01</td>\n",
       "      <td>17.738982</td>\n",
       "      <td>0.994937</td>\n",
       "    </tr>\n",
       "    <tr>\n",
       "      <th>logs_lazega_degree_10</th>\n",
       "      <td>88.394366</td>\n",
       "      <td>4.37</td>\n",
       "      <td>3.524618</td>\n",
       "      <td>0.522590</td>\n",
       "    </tr>\n",
       "    <tr>\n",
       "      <th>logs_lazega_btw_05</th>\n",
       "      <td>78.028169</td>\n",
       "      <td>6.02</td>\n",
       "      <td>15.532600</td>\n",
       "      <td>0.958958</td>\n",
       "    </tr>\n",
       "    <tr>\n",
       "      <th>logs_lazega_btw_10</th>\n",
       "      <td>89.323944</td>\n",
       "      <td>4.27</td>\n",
       "      <td>3.398892</td>\n",
       "      <td>0.443959</td>\n",
       "    </tr>\n",
       "    <tr>\n",
       "      <th>logs_lazega_close_05</th>\n",
       "      <td>78.549296</td>\n",
       "      <td>6.17</td>\n",
       "      <td>13.070324</td>\n",
       "      <td>0.895042</td>\n",
       "    </tr>\n",
       "    <tr>\n",
       "      <th>logs_lazega_close_10</th>\n",
       "      <td>89.098592</td>\n",
       "      <td>4.43</td>\n",
       "      <td>3.354479</td>\n",
       "      <td>0.570175</td>\n",
       "    </tr>\n",
       "    <tr>\n",
       "      <th>logs_lazega_VR_05</th>\n",
       "      <td>82.098592</td>\n",
       "      <td>5.84</td>\n",
       "      <td>13.301167</td>\n",
       "      <td>0.902441</td>\n",
       "    </tr>\n",
       "    <tr>\n",
       "      <th>logs_lazega_VR_10</th>\n",
       "      <td>89.028169</td>\n",
       "      <td>4.44</td>\n",
       "      <td>3.399564</td>\n",
       "      <td>0.496387</td>\n",
       "    </tr>\n",
       "    <tr>\n",
       "      <th>logs_lazega_driver_05</th>\n",
       "      <td>84.281690</td>\n",
       "      <td>5.81</td>\n",
       "      <td>6.388593</td>\n",
       "      <td>0.757562</td>\n",
       "    </tr>\n",
       "    <tr>\n",
       "      <th>logs_lazega_driver_10</th>\n",
       "      <td>88.239437</td>\n",
       "      <td>4.25</td>\n",
       "      <td>3.685596</td>\n",
       "      <td>0.433013</td>\n",
       "    </tr>\n",
       "    <tr>\n",
       "      <th>logs_aucs_degree_05</th>\n",
       "      <td>11.868852</td>\n",
       "      <td>2.80</td>\n",
       "      <td>3.312287</td>\n",
       "      <td>0.748331</td>\n",
       "    </tr>\n",
       "    <tr>\n",
       "      <th>logs_aucs_degree_10</th>\n",
       "      <td>20.295082</td>\n",
       "      <td>2.74</td>\n",
       "      <td>3.134364</td>\n",
       "      <td>0.482079</td>\n",
       "    </tr>\n",
       "    <tr>\n",
       "      <th>logs_aucs_btw_05</th>\n",
       "      <td>9.852459</td>\n",
       "      <td>2.63</td>\n",
       "      <td>2.658519</td>\n",
       "      <td>0.770130</td>\n",
       "    </tr>\n",
       "    <tr>\n",
       "      <th>logs_aucs_btw_10</th>\n",
       "      <td>18.622951</td>\n",
       "      <td>2.80</td>\n",
       "      <td>2.825385</td>\n",
       "      <td>0.509902</td>\n",
       "    </tr>\n",
       "    <tr>\n",
       "      <th>logs_aucs_close_05</th>\n",
       "      <td>8.967213</td>\n",
       "      <td>2.44</td>\n",
       "      <td>1.861288</td>\n",
       "      <td>0.588558</td>\n",
       "    </tr>\n",
       "    <tr>\n",
       "      <th>logs_aucs_close_10</th>\n",
       "      <td>16.147541</td>\n",
       "      <td>2.55</td>\n",
       "      <td>2.142153</td>\n",
       "      <td>0.554527</td>\n",
       "    </tr>\n",
       "    <tr>\n",
       "      <th>logs_aucs_VR_05</th>\n",
       "      <td>11.721311</td>\n",
       "      <td>3.05</td>\n",
       "      <td>3.984483</td>\n",
       "      <td>0.942072</td>\n",
       "    </tr>\n",
       "    <tr>\n",
       "      <th>logs_aucs_VR_10</th>\n",
       "      <td>18.754098</td>\n",
       "      <td>2.72</td>\n",
       "      <td>3.248385</td>\n",
       "      <td>0.617738</td>\n",
       "    </tr>\n",
       "    <tr>\n",
       "      <th>logs_aucs_driver_05</th>\n",
       "      <td>11.901639</td>\n",
       "      <td>2.78</td>\n",
       "      <td>3.380549</td>\n",
       "      <td>0.769155</td>\n",
       "    </tr>\n",
       "    <tr>\n",
       "      <th>logs_aucs_driver_10</th>\n",
       "      <td>20.081967</td>\n",
       "      <td>2.79</td>\n",
       "      <td>3.298098</td>\n",
       "      <td>0.534696</td>\n",
       "    </tr>\n",
       "  </tbody>\n",
       "</table>\n",
       "</div>"
      ],
      "text/plain": [
       "                       avg_activated_actors_model  avg_epochs_model  \\\n",
       "logs_lazega_degree_05                   79.169014              6.01   \n",
       "logs_lazega_degree_10                   88.394366              4.37   \n",
       "logs_lazega_btw_05                      78.028169              6.02   \n",
       "logs_lazega_btw_10                      89.323944              4.27   \n",
       "logs_lazega_close_05                    78.549296              6.17   \n",
       "logs_lazega_close_10                    89.098592              4.43   \n",
       "logs_lazega_VR_05                       82.098592              5.84   \n",
       "logs_lazega_VR_10                       89.028169              4.44   \n",
       "logs_lazega_driver_05                   84.281690              5.81   \n",
       "logs_lazega_driver_10                   88.239437              4.25   \n",
       "logs_aucs_degree_05                     11.868852              2.80   \n",
       "logs_aucs_degree_10                     20.295082              2.74   \n",
       "logs_aucs_btw_05                         9.852459              2.63   \n",
       "logs_aucs_btw_10                        18.622951              2.80   \n",
       "logs_aucs_close_05                       8.967213              2.44   \n",
       "logs_aucs_close_10                      16.147541              2.55   \n",
       "logs_aucs_VR_05                         11.721311              3.05   \n",
       "logs_aucs_VR_10                         18.754098              2.72   \n",
       "logs_aucs_driver_05                     11.901639              2.78   \n",
       "logs_aucs_driver_10                     20.081967              2.79   \n",
       "\n",
       "                       std_activated_actors_model  std_epochs_model  \n",
       "logs_lazega_degree_05                   17.738982          0.994937  \n",
       "logs_lazega_degree_10                    3.524618          0.522590  \n",
       "logs_lazega_btw_05                      15.532600          0.958958  \n",
       "logs_lazega_btw_10                       3.398892          0.443959  \n",
       "logs_lazega_close_05                    13.070324          0.895042  \n",
       "logs_lazega_close_10                     3.354479          0.570175  \n",
       "logs_lazega_VR_05                       13.301167          0.902441  \n",
       "logs_lazega_VR_10                        3.399564          0.496387  \n",
       "logs_lazega_driver_05                    6.388593          0.757562  \n",
       "logs_lazega_driver_10                    3.685596          0.433013  \n",
       "logs_aucs_degree_05                      3.312287          0.748331  \n",
       "logs_aucs_degree_10                      3.134364          0.482079  \n",
       "logs_aucs_btw_05                         2.658519          0.770130  \n",
       "logs_aucs_btw_10                         2.825385          0.509902  \n",
       "logs_aucs_close_05                       1.861288          0.588558  \n",
       "logs_aucs_close_10                       2.142153          0.554527  \n",
       "logs_aucs_VR_05                          3.984483          0.942072  \n",
       "logs_aucs_VR_10                          3.248385          0.617738  \n",
       "logs_aucs_driver_05                      3.380549          0.769155  \n",
       "logs_aucs_driver_10                      3.298098          0.534696  "
      ]
     },
     "execution_count": 15,
     "metadata": {},
     "output_type": "execute_result"
    }
   ],
   "source": [
    "logs_df = pd.DataFrame(logs_dict).T.rename(\n",
    "    columns={0: \"avg_activated_actors_model\", 1: \"avg_epochs_model\", 2: \"std_activated_actors_model\", 3: \"std_epochs_model\"}\n",
    ")\n",
    "logs_df"
   ]
  },
  {
   "cell_type": "code",
   "execution_count": 16,
   "metadata": {},
   "outputs": [
    {
     "data": {
      "text/html": [
       "<div>\n",
       "<style scoped>\n",
       "    .dataframe tbody tr th:only-of-type {\n",
       "        vertical-align: middle;\n",
       "    }\n",
       "\n",
       "    .dataframe tbody tr th {\n",
       "        vertical-align: top;\n",
       "    }\n",
       "\n",
       "    .dataframe thead th {\n",
       "        text-align: right;\n",
       "    }\n",
       "</style>\n",
       "<table border=\"1\" class=\"dataframe\">\n",
       "  <thead>\n",
       "    <tr style=\"text-align: right;\">\n",
       "      <th></th>\n",
       "      <th>avg_activated_actors_model</th>\n",
       "      <th>avg_epochs_model</th>\n",
       "      <th>std_activated_actors_model</th>\n",
       "      <th>std_epochs_model</th>\n",
       "      <th>avg_std_activated_actors_model</th>\n",
       "      <th>avg_std_epochs_model</th>\n",
       "    </tr>\n",
       "  </thead>\n",
       "  <tbody>\n",
       "    <tr>\n",
       "      <th>logs_lazega_degree_05</th>\n",
       "      <td>79.169014</td>\n",
       "      <td>6.01</td>\n",
       "      <td>17.738982</td>\n",
       "      <td>0.994937</td>\n",
       "      <td>79.17±17.74%</td>\n",
       "      <td>6.01±0.99</td>\n",
       "    </tr>\n",
       "    <tr>\n",
       "      <th>logs_lazega_degree_10</th>\n",
       "      <td>88.394366</td>\n",
       "      <td>4.37</td>\n",
       "      <td>3.524618</td>\n",
       "      <td>0.522590</td>\n",
       "      <td>88.39±3.52%</td>\n",
       "      <td>4.37±0.52</td>\n",
       "    </tr>\n",
       "    <tr>\n",
       "      <th>logs_lazega_btw_05</th>\n",
       "      <td>78.028169</td>\n",
       "      <td>6.02</td>\n",
       "      <td>15.532600</td>\n",
       "      <td>0.958958</td>\n",
       "      <td>78.03±15.53%</td>\n",
       "      <td>6.02±0.96</td>\n",
       "    </tr>\n",
       "    <tr>\n",
       "      <th>logs_lazega_btw_10</th>\n",
       "      <td>89.323944</td>\n",
       "      <td>4.27</td>\n",
       "      <td>3.398892</td>\n",
       "      <td>0.443959</td>\n",
       "      <td>89.32±3.4%</td>\n",
       "      <td>4.27±0.44</td>\n",
       "    </tr>\n",
       "    <tr>\n",
       "      <th>logs_lazega_close_05</th>\n",
       "      <td>78.549296</td>\n",
       "      <td>6.17</td>\n",
       "      <td>13.070324</td>\n",
       "      <td>0.895042</td>\n",
       "      <td>78.55±13.07%</td>\n",
       "      <td>6.17±0.9</td>\n",
       "    </tr>\n",
       "    <tr>\n",
       "      <th>logs_lazega_close_10</th>\n",
       "      <td>89.098592</td>\n",
       "      <td>4.43</td>\n",
       "      <td>3.354479</td>\n",
       "      <td>0.570175</td>\n",
       "      <td>89.1±3.35%</td>\n",
       "      <td>4.43±0.57</td>\n",
       "    </tr>\n",
       "    <tr>\n",
       "      <th>logs_lazega_VR_05</th>\n",
       "      <td>82.098592</td>\n",
       "      <td>5.84</td>\n",
       "      <td>13.301167</td>\n",
       "      <td>0.902441</td>\n",
       "      <td>82.1±13.3%</td>\n",
       "      <td>5.84±0.9</td>\n",
       "    </tr>\n",
       "    <tr>\n",
       "      <th>logs_lazega_VR_10</th>\n",
       "      <td>89.028169</td>\n",
       "      <td>4.44</td>\n",
       "      <td>3.399564</td>\n",
       "      <td>0.496387</td>\n",
       "      <td>89.03±3.4%</td>\n",
       "      <td>4.44±0.5</td>\n",
       "    </tr>\n",
       "    <tr>\n",
       "      <th>logs_lazega_driver_05</th>\n",
       "      <td>84.281690</td>\n",
       "      <td>5.81</td>\n",
       "      <td>6.388593</td>\n",
       "      <td>0.757562</td>\n",
       "      <td>84.28±6.39%</td>\n",
       "      <td>5.81±0.76</td>\n",
       "    </tr>\n",
       "    <tr>\n",
       "      <th>logs_lazega_driver_10</th>\n",
       "      <td>88.239437</td>\n",
       "      <td>4.25</td>\n",
       "      <td>3.685596</td>\n",
       "      <td>0.433013</td>\n",
       "      <td>88.24±3.69%</td>\n",
       "      <td>4.25±0.43</td>\n",
       "    </tr>\n",
       "    <tr>\n",
       "      <th>logs_aucs_degree_05</th>\n",
       "      <td>11.868852</td>\n",
       "      <td>2.80</td>\n",
       "      <td>3.312287</td>\n",
       "      <td>0.748331</td>\n",
       "      <td>11.87±3.31%</td>\n",
       "      <td>2.8±0.75</td>\n",
       "    </tr>\n",
       "    <tr>\n",
       "      <th>logs_aucs_degree_10</th>\n",
       "      <td>20.295082</td>\n",
       "      <td>2.74</td>\n",
       "      <td>3.134364</td>\n",
       "      <td>0.482079</td>\n",
       "      <td>20.3±3.13%</td>\n",
       "      <td>2.74±0.48</td>\n",
       "    </tr>\n",
       "    <tr>\n",
       "      <th>logs_aucs_btw_05</th>\n",
       "      <td>9.852459</td>\n",
       "      <td>2.63</td>\n",
       "      <td>2.658519</td>\n",
       "      <td>0.770130</td>\n",
       "      <td>9.85±2.66%</td>\n",
       "      <td>2.63±0.77</td>\n",
       "    </tr>\n",
       "    <tr>\n",
       "      <th>logs_aucs_btw_10</th>\n",
       "      <td>18.622951</td>\n",
       "      <td>2.80</td>\n",
       "      <td>2.825385</td>\n",
       "      <td>0.509902</td>\n",
       "      <td>18.62±2.83%</td>\n",
       "      <td>2.8±0.51</td>\n",
       "    </tr>\n",
       "    <tr>\n",
       "      <th>logs_aucs_close_05</th>\n",
       "      <td>8.967213</td>\n",
       "      <td>2.44</td>\n",
       "      <td>1.861288</td>\n",
       "      <td>0.588558</td>\n",
       "      <td>8.97±1.86%</td>\n",
       "      <td>2.44±0.59</td>\n",
       "    </tr>\n",
       "    <tr>\n",
       "      <th>logs_aucs_close_10</th>\n",
       "      <td>16.147541</td>\n",
       "      <td>2.55</td>\n",
       "      <td>2.142153</td>\n",
       "      <td>0.554527</td>\n",
       "      <td>16.15±2.14%</td>\n",
       "      <td>2.55±0.55</td>\n",
       "    </tr>\n",
       "    <tr>\n",
       "      <th>logs_aucs_VR_05</th>\n",
       "      <td>11.721311</td>\n",
       "      <td>3.05</td>\n",
       "      <td>3.984483</td>\n",
       "      <td>0.942072</td>\n",
       "      <td>11.72±3.98%</td>\n",
       "      <td>3.05±0.94</td>\n",
       "    </tr>\n",
       "    <tr>\n",
       "      <th>logs_aucs_VR_10</th>\n",
       "      <td>18.754098</td>\n",
       "      <td>2.72</td>\n",
       "      <td>3.248385</td>\n",
       "      <td>0.617738</td>\n",
       "      <td>18.75±3.25%</td>\n",
       "      <td>2.72±0.62</td>\n",
       "    </tr>\n",
       "    <tr>\n",
       "      <th>logs_aucs_driver_05</th>\n",
       "      <td>11.901639</td>\n",
       "      <td>2.78</td>\n",
       "      <td>3.380549</td>\n",
       "      <td>0.769155</td>\n",
       "      <td>11.9±3.38%</td>\n",
       "      <td>2.78±0.77</td>\n",
       "    </tr>\n",
       "    <tr>\n",
       "      <th>logs_aucs_driver_10</th>\n",
       "      <td>20.081967</td>\n",
       "      <td>2.79</td>\n",
       "      <td>3.298098</td>\n",
       "      <td>0.534696</td>\n",
       "      <td>20.08±3.3%</td>\n",
       "      <td>2.79±0.53</td>\n",
       "    </tr>\n",
       "  </tbody>\n",
       "</table>\n",
       "</div>"
      ],
      "text/plain": [
       "                       avg_activated_actors_model  avg_epochs_model  \\\n",
       "logs_lazega_degree_05                   79.169014              6.01   \n",
       "logs_lazega_degree_10                   88.394366              4.37   \n",
       "logs_lazega_btw_05                      78.028169              6.02   \n",
       "logs_lazega_btw_10                      89.323944              4.27   \n",
       "logs_lazega_close_05                    78.549296              6.17   \n",
       "logs_lazega_close_10                    89.098592              4.43   \n",
       "logs_lazega_VR_05                       82.098592              5.84   \n",
       "logs_lazega_VR_10                       89.028169              4.44   \n",
       "logs_lazega_driver_05                   84.281690              5.81   \n",
       "logs_lazega_driver_10                   88.239437              4.25   \n",
       "logs_aucs_degree_05                     11.868852              2.80   \n",
       "logs_aucs_degree_10                     20.295082              2.74   \n",
       "logs_aucs_btw_05                         9.852459              2.63   \n",
       "logs_aucs_btw_10                        18.622951              2.80   \n",
       "logs_aucs_close_05                       8.967213              2.44   \n",
       "logs_aucs_close_10                      16.147541              2.55   \n",
       "logs_aucs_VR_05                         11.721311              3.05   \n",
       "logs_aucs_VR_10                         18.754098              2.72   \n",
       "logs_aucs_driver_05                     11.901639              2.78   \n",
       "logs_aucs_driver_10                     20.081967              2.79   \n",
       "\n",
       "                       std_activated_actors_model  std_epochs_model  \\\n",
       "logs_lazega_degree_05                   17.738982          0.994937   \n",
       "logs_lazega_degree_10                    3.524618          0.522590   \n",
       "logs_lazega_btw_05                      15.532600          0.958958   \n",
       "logs_lazega_btw_10                       3.398892          0.443959   \n",
       "logs_lazega_close_05                    13.070324          0.895042   \n",
       "logs_lazega_close_10                     3.354479          0.570175   \n",
       "logs_lazega_VR_05                       13.301167          0.902441   \n",
       "logs_lazega_VR_10                        3.399564          0.496387   \n",
       "logs_lazega_driver_05                    6.388593          0.757562   \n",
       "logs_lazega_driver_10                    3.685596          0.433013   \n",
       "logs_aucs_degree_05                      3.312287          0.748331   \n",
       "logs_aucs_degree_10                      3.134364          0.482079   \n",
       "logs_aucs_btw_05                         2.658519          0.770130   \n",
       "logs_aucs_btw_10                         2.825385          0.509902   \n",
       "logs_aucs_close_05                       1.861288          0.588558   \n",
       "logs_aucs_close_10                       2.142153          0.554527   \n",
       "logs_aucs_VR_05                          3.984483          0.942072   \n",
       "logs_aucs_VR_10                          3.248385          0.617738   \n",
       "logs_aucs_driver_05                      3.380549          0.769155   \n",
       "logs_aucs_driver_10                      3.298098          0.534696   \n",
       "\n",
       "                      avg_std_activated_actors_model avg_std_epochs_model  \n",
       "logs_lazega_degree_05                   79.17±17.74%            6.01±0.99  \n",
       "logs_lazega_degree_10                    88.39±3.52%            4.37±0.52  \n",
       "logs_lazega_btw_05                      78.03±15.53%            6.02±0.96  \n",
       "logs_lazega_btw_10                        89.32±3.4%            4.27±0.44  \n",
       "logs_lazega_close_05                    78.55±13.07%             6.17±0.9  \n",
       "logs_lazega_close_10                      89.1±3.35%            4.43±0.57  \n",
       "logs_lazega_VR_05                         82.1±13.3%             5.84±0.9  \n",
       "logs_lazega_VR_10                         89.03±3.4%             4.44±0.5  \n",
       "logs_lazega_driver_05                    84.28±6.39%            5.81±0.76  \n",
       "logs_lazega_driver_10                    88.24±3.69%            4.25±0.43  \n",
       "logs_aucs_degree_05                      11.87±3.31%             2.8±0.75  \n",
       "logs_aucs_degree_10                       20.3±3.13%            2.74±0.48  \n",
       "logs_aucs_btw_05                          9.85±2.66%            2.63±0.77  \n",
       "logs_aucs_btw_10                         18.62±2.83%             2.8±0.51  \n",
       "logs_aucs_close_05                        8.97±1.86%            2.44±0.59  \n",
       "logs_aucs_close_10                       16.15±2.14%            2.55±0.55  \n",
       "logs_aucs_VR_05                          11.72±3.98%            3.05±0.94  \n",
       "logs_aucs_VR_10                          18.75±3.25%            2.72±0.62  \n",
       "logs_aucs_driver_05                       11.9±3.38%            2.78±0.77  \n",
       "logs_aucs_driver_10                       20.08±3.3%            2.79±0.53  "
      ]
     },
     "execution_count": 16,
     "metadata": {},
     "output_type": "execute_result"
    }
   ],
   "source": [
    "def aggregate_avg_activated(row):\n",
    "    return f\"{round(row['avg_activated_actors_model'], 2)}±{round(row['std_activated_actors_model'], 2)}%\"\n",
    "\n",
    "def aggregate_avg_epochs(row):\n",
    "    return f\"{round(row['avg_epochs_model'], 2)}±{round(row['std_epochs_model'], 2)}\"\n",
    "\n",
    "logs_df['avg_std_activated_actors_model'] = logs_df.apply(aggregate_avg_activated, axis=1)\n",
    "logs_df['avg_std_epochs_model'] = logs_df.apply(aggregate_avg_epochs, axis=1)\n",
    "\n",
    "logs_df.to_csv(f\"{out_dir}/logs.csv\")\n",
    "logs_df\n"
   ]
  },
  {
   "cell_type": "markdown",
   "metadata": {},
   "source": [
    "## Visualisation"
   ]
  },
  {
   "cell_type": "code",
   "execution_count": 17,
   "metadata": {},
   "outputs": [
    {
     "name": "stderr",
     "output_type": "stream",
     "text": [
      "                                                                                          ?, ?it/s]\r"
     ]
    }
   ],
   "source": [
    "model_driver_10_OR = create_mic_model(\n",
    "    [90, 10, 0], nd.seeding.DriverActorSelector(nd.seeding.DegreeCentralitySelector()), \"OR\", probability\n",
    ")\n",
    "experiment = nd.Simulator(model_driver_10_OR, aucs)\n",
    "logs = experiment.perform_propagation(n_epochs=10, patience=1)"
   ]
  },
  {
   "cell_type": "code",
   "execution_count": 18,
   "metadata": {},
   "outputs": [
    {
     "data": {
      "text/plain": [
       "[{'facebook': (('0', 26), ('1', 6)),\n",
       "  'lunch': (('0', 54), ('1', 6)),\n",
       "  'coauthor': (('0', 23), ('1', 2)),\n",
       "  'leisure': (('0', 43), ('1', 4)),\n",
       "  'work': (('0', 54), ('1', 6))},\n",
       " {'facebook': (('1', 24), ('0', 2), ('-1', 6)),\n",
       "  'lunch': (('0', 9), ('1', 45), ('-1', 6)),\n",
       "  'coauthor': (('1', 21), ('0', 2), ('-1', 2)),\n",
       "  'leisure': (('1', 35), ('0', 8), ('-1', 4)),\n",
       "  'work': (('1', 45), ('0', 9), ('-1', 6))},\n",
       " {'facebook': (('-1', 30), ('1', 2)),\n",
       "  'lunch': (('1', 9), ('-1', 51)),\n",
       "  'coauthor': (('-1', 23), ('1', 2)),\n",
       "  'leisure': (('-1', 39), ('1', 8)),\n",
       "  'work': (('-1', 51), ('1', 8), ('0', 1))},\n",
       " {'facebook': (('-1', 32),),\n",
       "  'lunch': (('-1', 60),),\n",
       "  'coauthor': (('-1', 25),),\n",
       "  'leisure': (('-1', 47),),\n",
       "  'work': (('-1', 59), ('0', 1))},\n",
       " {'facebook': (('-1', 32),),\n",
       "  'lunch': (('-1', 60),),\n",
       "  'coauthor': (('-1', 25),),\n",
       "  'leisure': (('-1', 47),),\n",
       "  'work': (('-1', 59), ('0', 1))}]"
      ]
     },
     "execution_count": 18,
     "metadata": {},
     "output_type": "execute_result"
    }
   ],
   "source": [
    "# bulk logs from entire simulation that concatenate states of agents per each layer of the network\n",
    "exp_01 = logs._global_stats\n",
    "exp_01"
   ]
  },
  {
   "cell_type": "code",
   "execution_count": 19,
   "metadata": {},
   "outputs": [],
   "source": [
    "# Convert the data to a JSON-compatible format\n",
    "json_compatible_data = []\n",
    "for record in exp_01:\n",
    "    new_record = {}\n",
    "    for key, value in record.items():\n",
    "        new_record[key] = [list(item) for item in value]\n",
    "    json_compatible_data.append(new_record)\n",
    "\n",
    "# Write to a JSON file\n",
    "file_path = f\"{out_dir}/exp_visualise.json\"\n",
    "with open(file_path, 'w') as f:\n",
    "    json.dump(json_compatible_data, f)"
   ]
  },
  {
   "cell_type": "code",
   "execution_count": 20,
   "metadata": {},
   "outputs": [],
   "source": [
    "# Load the data from a JSON file\n",
    "file_path = f\"{out_dir}/exp_visualise.json\"\n",
    "with open(file_path, 'r') as f:\n",
    "    loaded_data = json.load(f)\n",
    "\n",
    "# Convert the data back to its original form\n",
    "parsed_data = []\n",
    "for record in loaded_data:\n",
    "    new_record = {}\n",
    "    for key, value in record.items():\n",
    "        new_record[key] = [tuple(item) for item in value]\n",
    "    parsed_data.append(new_record)"
   ]
  },
  {
   "cell_type": "code",
   "execution_count": 21,
   "metadata": {},
   "outputs": [
    {
     "data": {
      "image/png": "[encoded data removed]",
      "text/plain": [
       "<Figure size 2000x430 with 5 Axes>"
      ]
     },
     "metadata": {},
     "output_type": "display_data"
    }
   ],
   "source": [
    "layers = ['facebook', 'lunch', 'coauthor', 'leisure', 'work']\n",
    "statuses = ['0', '1', '-1']\n",
    "status_labels = {'0': 'Inactive', '1': 'Active', '-1': 'Activated'}  # Mapping from status to label\n",
    "plot_data = {layer: {status: [] for status in statuses} for layer in layers}\n",
    "\n",
    "# Populate the plot data\n",
    "for epoch, record in enumerate(parsed_data):\n",
    "    for layer in layers:\n",
    "        layer_data = dict(record.get(layer, []))\n",
    "        for status in statuses:\n",
    "            plot_data[layer][status].append(layer_data.get(status, 0))\n",
    "\n",
    "# Generate plots\n",
    "fig, axes = plt.subplots(1, len(layers), figsize=(20, 4.3), sharey=True)\n",
    "\n",
    "for ax, layer in zip(axes, layers):\n",
    "    for status, color in zip(statuses, ['r', 'g', 'b']):\n",
    "        label = status_labels[status]  # Get the label from the mapping\n",
    "        ax.plot(plot_data[layer][status], color=color, label=label)  # Use the label in the plot\n",
    "    ax.set_title(layer.capitalize(), fontsize=16)\n",
    "    ax.set_xlabel('Epoch', fontsize=14)\n",
    "    ax.legend(fontsize=11)\n",
    "\n",
    "axes[0].set_ylabel('Number of Nodes', fontsize=14)\n",
    "plt.savefig(f\"{out_dir}/spreading.pdf\", format=\"pdf\")\n",
    "plt.show()"
   ]
  }
 ],
 "metadata": {
  "kernelspec": {
   "display_name": "bdma",
   "language": "python",
   "name": "bdma"
  },
  "language_info": {
   "codemirror_mode": {
    "name": "ipython",
    "version": 3
   },
   "file_extension": ".py",
   "mimetype": "text/x-python",
   "name": "python",
   "nbconvert_exporter": "python",
   "pygments_lexer": "ipython3",
   "version": "3.10.13"
  }
 },
 "nbformat": 4,
 "nbformat_minor": 4
}
