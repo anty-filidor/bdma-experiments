{
 "cells": [
  {
   "cell_type": "markdown",
   "metadata": {},
   "source": [
    "# Coexisting processes (SIR + UAU) + multilayer (AUCS)\n",
    "\n",
    "This experiment shows the difference between SIR and SIR + UAU"
   ]
  },
  {
   "cell_type": "code",
   "execution_count": 16,
   "metadata": {},
   "outputs": [
    {
     "name": "stdout",
     "output_type": "stream",
     "text": [
      "The autoreload extension is already loaded. To reload it, use:\n",
      "  %reload_ext autoreload\n"
     ]
    }
   ],
   "source": [
    "import matplotlib.pyplot as plt\n",
    "import network_diffusion as nd\n",
    "import numpy as np\n",
    "import pandas as pd\n",
    "\n",
    "from tqdm import tqdm\n",
    "from utils import functions, models, networks\n",
    "\n",
    "%load_ext autoreload\n",
    "%autoreload 2"
   ]
  },
  {
   "cell_type": "code",
   "execution_count": 17,
   "metadata": {},
   "outputs": [],
   "source": [
    "N_EPOCHS = 20\n",
    "N_REPETITIONS = 100\n",
    "PATIENCE = None\n",
    "LAMBDAS = [0, 0.5, 1, 1.5, 2]"
   ]
  },
  {
   "cell_type": "code",
   "execution_count": 20,
   "metadata": {},
   "outputs": [
    {
     "name": "stdout",
     "output_type": "stream",
     "text": [
      "============================================\n",
      "network parameters\n",
      "--------------------------------------------\n",
      "general parameters:\n",
      "\tnumber of layers: 2\n",
      "\tnumber of actors: 1000\n",
      "\n",
      "layer 'awareness' parameters:\n",
      "\tgraph type - <class 'networkx.classes.graph.Graph'>\n",
      "\tnumber of nodes - 1000\n",
      "\tnumber of edges - 49621\n",
      "\taverage degree - 99.242\n",
      "\tclustering coefficient - 0.0989\n",
      "\n",
      "layer 'contagion' parameters:\n",
      "\tgraph type - <class 'networkx.classes.graph.Graph'>\n",
      "\tnumber of nodes - 1000\n",
      "\tnumber of edges - 49621\n",
      "\taverage degree - 99.242\n",
      "\tclustering coefficient - 0.0989\n",
      "============================================\n"
     ]
    }
   ],
   "source": [
    "# net = networks.get_aucs_network()\n",
    "# net = networks.get_sf_net()\n",
    "net = networks.get_er_net()\n",
    "print(net)"
   ]
  },
  {
   "cell_type": "code",
   "execution_count": 14,
   "metadata": {},
   "outputs": [
    {
     "name": "stdout",
     "output_type": "stream",
     "text": [
      "Model with lambda: 0\n"
     ]
    },
    {
     "name": "stderr",
     "output_type": "stream",
     "text": [
      "100%|██████████| 30/30 [00:55<00:00,  1.84s/it]\n"
     ]
    },
    {
     "name": "stdout",
     "output_type": "stream",
     "text": [
      "Model with lambda: 0.5\n"
     ]
    },
    {
     "name": "stderr",
     "output_type": "stream",
     "text": [
      "100%|██████████| 30/30 [00:55<00:00,  1.84s/it]\n"
     ]
    },
    {
     "name": "stdout",
     "output_type": "stream",
     "text": [
      "Model with lambda: 1\n"
     ]
    },
    {
     "name": "stderr",
     "output_type": "stream",
     "text": [
      "100%|██████████| 30/30 [00:54<00:00,  1.83s/it]\n"
     ]
    },
    {
     "name": "stdout",
     "output_type": "stream",
     "text": [
      "Model with lambda: 1.5\n"
     ]
    },
    {
     "name": "stderr",
     "output_type": "stream",
     "text": [
      "100%|██████████| 30/30 [00:57<00:00,  1.90s/it]\n"
     ]
    },
    {
     "name": "stdout",
     "output_type": "stream",
     "text": [
      "Model with lambda: 2\n"
     ]
    },
    {
     "name": "stderr",
     "output_type": "stream",
     "text": [
      "100%|██████████| 30/30 [00:59<00:00,  1.98s/it]"
     ]
    },
    {
     "name": "stdout",
     "output_type": "stream",
     "text": [
      "============================================\n",
      "DSAA Model\n",
      "--------------------------------------------\n",
      "============================================\n",
      "compartmental model\n",
      "--------------------------------------------\n",
      "processes, their states and initial sizes:\n",
      "\t'contagion': [S:95%, I:2.5%, R:2.5%]\n",
      "\t'awareness': [U:95%, A:5%]\n",
      "--------------------------------------------\n",
      "process 'contagion' transitions with nonzero weight:\n",
      "\tfrom S to I with probability 0.19 and constrains ['awareness.U']\n",
      "\tfrom I to R with probability 0.1 and constrains ['awareness.U']\n",
      "\tfrom S to I with probability 0.025713703814956412 and constrains ['awareness.A']\n",
      "\tfrom I to R with probability 0.7389056098930651 and constrains ['awareness.A']\n",
      "--------------------------------------------\n",
      "process 'awareness' transitions with nonzero weight:\n",
      "\tfrom U to A with probability 0.05 and constrains ['contagion.S']\n",
      "\tfrom U to A with probability 0.75 and constrains ['contagion.I']\n",
      "\tfrom U to A with probability 0.05 and constrains ['contagion.R']\n",
      "========================================================================================\n",
      "seed selection method\n",
      "--------------------------------------------\n",
      "\tnodewise random choice\n",
      "============================================\n",
      "\n",
      "============================================\n"
     ]
    },
    {
     "name": "stderr",
     "output_type": "stream",
     "text": [
      "\n"
     ]
    }
   ],
   "source": [
    "results = {}\n",
    "\n",
    "for l in LAMBDAS:\n",
    "    print(f\"Model with lambda: {l}\")\n",
    "    model = models.get_covid_model(l=l)\n",
    "\n",
    "    all_logs = []\n",
    "    for i in tqdm(range(N_REPETITIONS)):\n",
    "        experiment = nd.Simulator(model, net.copy())\n",
    "        run_logs = experiment.perform_propagation(n_epochs=N_EPOCHS, patience=PATIENCE)\n",
    "        all_logs.append(run_logs._global_stats_converted)\n",
    "\n",
    "    mean_contagion = functions.get_mean_log([log[\"contagion\"] for log in all_logs])\n",
    "    mean_awareness = functions.get_mean_log([log[\"awareness\"] for log in all_logs])\n",
    "    mean_core = pd.DataFrame([mean_contagion[\"I\"], mean_awareness[\"A\"]]).T\n",
    "\n",
    "    std_contagion = functions.get_std_log([log[\"contagion\"] for log in all_logs])\n",
    "    std_awareness = functions.get_std_log([log[\"awareness\"] for log in all_logs])\n",
    "    std_core = pd.DataFrame([std_contagion[\"I\"], std_awareness[\"A\"]]).T\n",
    "\n",
    "    results[l] = {\"mean\": mean_core, \"std\": std_core}\n",
    "\n",
    "print(model)"
   ]
  },
  {
   "cell_type": "code",
   "execution_count": 15,
   "metadata": {},
   "outputs": [
    {
     "data": {
      "text/plain": [
       "<matplotlib.legend.Legend at 0x14b1d3760>"
      ]
     },
     "execution_count": 15,
     "metadata": {},
     "output_type": "execute_result"
    },
    {
     "data": {
      "image/png": "[encoded data removed]",
      "text/plain": [
       "<Figure size 640x480 with 1 Axes>"
      ]
     },
     "metadata": {},
     "output_type": "display_data"
    }
   ],
   "source": [
    "fig, ax = plt.subplots(nrows=1, ncols=1)\n",
    "colors = plt.cm.jet(np.linspace(0, 1, len(results) + 1))\n",
    "res_nb = 0\n",
    "\n",
    "for l, result in results.items():\n",
    "\n",
    "    _i = result[\"mean\"][\"I\"].to_numpy()\n",
    "    _i_std = result[\"std\"][\"I\"].to_numpy()\n",
    "    _x = np.arange(0, len(_i))\n",
    "\n",
    "    # _x_new = np.linspace(_x.min(), _x.max(), 300)\n",
    "    # _i_new = make_interp_spline(_x, _i, k=1)(_x_new)\n",
    "\n",
    "    ax.plot(_x, _i, label=rf\"Infected ($\\lambda$={l})\", color=colors[res_nb])\n",
    "    ax.fill_between(_x, _i-_i_std, _i+_i_std, alpha=0.1, color=colors[res_nb])\n",
    "\n",
    "    res_nb += 1\n",
    "\n",
    "\n",
    "_a = np.array([_r[\"mean\"][\"A\"] for _r in results.values()]).mean(0)\n",
    "_a_std = np.array([_r[\"std\"][\"A\"] for _r in results.values()]).mean(0)\n",
    "\n",
    "ax.plot(_x, _a, label=\"Aware\", color=colors[res_nb])\n",
    "ax.fill_between(_x, _a-_a_std, _a+_a_std, alpha=0.1, color=colors[res_nb])\n",
    "\n",
    "ax.grid(True)\n",
    "ax.set_xlabel(\"Epoch\")\n",
    "ax.set_xticks(np.arange(0, _x.max()+1, 2))\n",
    "ax.set_ylabel(\"% of Agents\")\n",
    "fig.legend(loc=\"upper right\", bbox_to_anchor=(0.9, 0.8))\n"
   ]
  }
 ],
 "metadata": {
  "kernelspec": {
   "display_name": "bdma",
   "language": "python",
   "name": "bdma"
  },
  "language_info": {
   "codemirror_mode": {
    "name": "ipython",
    "version": 3
   },
   "file_extension": ".py",
   "mimetype": "text/x-python",
   "name": "python",
   "nbconvert_exporter": "python",
   "pygments_lexer": "ipython3",
   "version": "3.10.13"
  },
  "orig_nbformat": 4
 },
 "nbformat": 4,
 "nbformat_minor": 2
}
